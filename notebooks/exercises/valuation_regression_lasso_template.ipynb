{
 "cells": [
  {
   "cell_type": "markdown",
   "metadata": {
    "deletable": true,
    "editable": true
   },
   "source": [
    "# S&P 500 P/E Analysis - Regression Modeling - Model Selection Using L1  "
   ]
  },
  {
   "cell_type": "markdown",
   "metadata": {
    "deletable": true,
    "editable": true
   },
   "source": [
    "### Credit:\n",
    "    Data for this exercise is based on the S&P 500 companies fundamental data provided by Dominik Gawlik at\n",
    "    https://www.kaggle.com/dgawlik/nyse"
   ]
  },
  {
   "cell_type": "markdown",
   "metadata": {
    "deletable": true,
    "editable": true
   },
   "source": [
    "## Learning Objectives"
   ]
  },
  {
   "cell_type": "markdown",
   "metadata": {
    "deletable": true,
    "editable": true
   },
   "source": [
    "Run a basic regression using L1 regularization to conduct variable selection\n",
    "    * run a simple OLS\n",
    "    * analyze output\n",
    "    * run L1 regression\n",
    "    * interpret model parameters"
   ]
  },
  {
   "cell_type": "markdown",
   "metadata": {
    "deletable": true,
    "editable": true
   },
   "source": [
    "## Imports"
   ]
  },
  {
   "cell_type": "code",
   "execution_count": null,
   "metadata": {
    "collapsed": true,
    "deletable": true,
    "editable": true
   },
   "outputs": [],
   "source": []
  },
  {
   "cell_type": "markdown",
   "metadata": {
    "deletable": true,
    "editable": true
   },
   "source": [
    "## Get Data and Subset Data"
   ]
  },
  {
   "cell_type": "code",
   "execution_count": null,
   "metadata": {
    "collapsed": true
   },
   "outputs": [],
   "source": [
    "# Import data from the csv file\n"
   ]
  },
  {
   "cell_type": "code",
   "execution_count": null,
   "metadata": {
    "collapsed": false,
    "deletable": true,
    "editable": true,
    "scrolled": true
   },
   "outputs": [],
   "source": [
    "# subset the dataframe removing rows with NULL values\n",
    "bix = df.notnull().all(axis=1)\n",
    "df = df[bix]"
   ]
  },
  {
   "cell_type": "markdown",
   "metadata": {
    "deletable": true,
    "editable": true
   },
   "source": [
    "## A First Regression Model Using All Variables"
   ]
  },
  {
   "cell_type": "code",
   "execution_count": null,
   "metadata": {
    "collapsed": false,
    "deletable": true,
    "editable": true
   },
   "outputs": [],
   "source": [
    "df.describe()"
   ]
  },
  {
   "cell_type": "code",
   "execution_count": null,
   "metadata": {
    "collapsed": false,
    "deletable": true,
    "editable": true
   },
   "outputs": [],
   "source": [
    "columns = [ 'Pre-TaxROE',\n",
    "            'AfterTaxROE',\n",
    "            'CashRatio', \n",
    "           'QuickRatio',\n",
    "           'OperatingMargin',\n",
    "           'Pre-TaxMargin', \n",
    "           'profit_margin',\n",
    "           'operating_cash_flow_margin',\n",
    "           'debt_to_equity', \n",
    "           'debt_to_asset', \n",
    "           'capital_surplus_to_asset',\n",
    "           'Goodwill_to_asset',\n",
    "          ]"
   ]
  },
  {
   "cell_type": "markdown",
   "metadata": {},
   "source": [
    "#### Specify the OLS Model"
   ]
  },
  {
   "cell_type": "code",
   "execution_count": null,
   "metadata": {
    "collapsed": false,
    "deletable": true,
    "editable": true
   },
   "outputs": [],
   "source": []
  },
  {
   "cell_type": "markdown",
   "metadata": {},
   "source": [
    "#### Fit the model"
   ]
  },
  {
   "cell_type": "code",
   "execution_count": null,
   "metadata": {
    "collapsed": false,
    "deletable": true,
    "editable": true
   },
   "outputs": [],
   "source": []
  },
  {
   "cell_type": "markdown",
   "metadata": {
    "deletable": true,
    "editable": true
   },
   "source": [
    "Notes:\n",
    "\n",
    "* Adjusted R-Square at 0.778 indicates a resonably good model fit\n",
    "\n",
    "* Several variables are statistically significant\n",
    "  * Pre-TaxROE\n",
    "  * AfterTaxROE\n",
    "  * OperatingMargin\n",
    "  * Pre-TaxMargin\n",
    "  * profit_margin\n",
    "  * capital_surplus_to_asset\n",
    "  * goodwill_to_asset\n",
    "\n",
    "\n",
    " * Warning Signs\n",
    "  * Warning indicating strong multicollinearity\n",
    "  * Regression coefficients defies common sense\n",
    "    * AfterTaxROE coefficient (statistically significant) is negative (-2.5335) indicating a high valuation for firms with lower ROE\n",
    "    * Pre-TarMargin coefficient (statistically significant) is negative (-2.4156) indicating a high valuation for firms with lower margin.\n",
    "  \n",
    "  \n",
    "Large number of collinear variables.  How do we select ones that are useful yet uncorrelated?"
   ]
  },
  {
   "cell_type": "markdown",
   "metadata": {},
   "source": [
    "#### Print the summary of the model results"
   ]
  },
  {
   "cell_type": "code",
   "execution_count": null,
   "metadata": {
    "collapsed": false,
    "deletable": true,
    "editable": true
   },
   "outputs": [],
   "source": []
  },
  {
   "cell_type": "markdown",
   "metadata": {
    "deletable": true,
    "editable": true
   },
   "source": [
    "### Variable selection using L1 regression"
   ]
  },
  {
   "cell_type": "markdown",
   "metadata": {
    "deletable": true,
    "editable": true
   },
   "source": [
    "Notes:\n",
    "    Good model should be less complex.\n",
    "        * fit L1 penalized model  \n",
    "        * we choose the model with the minimal bayes information criterion (bic)\n",
    "        * this will force an increasing number of the parameters to zero\n",
    "        * the nonzero variables are the selected variables\n",
    "        * last we will refit the \"best\" model and interpret the variables"
   ]
  },
  {
   "cell_type": "markdown",
   "metadata": {},
   "source": [
    "#### Specify L1 Regression Model"
   ]
  },
  {
   "cell_type": "code",
   "execution_count": null,
   "metadata": {
    "collapsed": false,
    "deletable": true,
    "editable": true
   },
   "outputs": [],
   "source": []
  },
  {
   "cell_type": "markdown",
   "metadata": {},
   "source": [
    "#### Fit the L1 Regression Model"
   ]
  },
  {
   "cell_type": "code",
   "execution_count": null,
   "metadata": {
    "collapsed": false,
    "deletable": true,
    "editable": true
   },
   "outputs": [],
   "source": []
  },
  {
   "cell_type": "markdown",
   "metadata": {},
   "source": [
    "#### View the model coefficients"
   ]
  },
  {
   "cell_type": "code",
   "execution_count": null,
   "metadata": {
    "collapsed": false,
    "deletable": true,
    "editable": true
   },
   "outputs": [],
   "source": []
  },
  {
   "cell_type": "markdown",
   "metadata": {
    "deletable": true,
    "editable": true
   },
   "source": [
    "#### Select non-zero variables\n",
    "\n",
    "Of the twelve variables, the selected four variables can explain the data just as good as all twelve combined."
   ]
  },
  {
   "cell_type": "code",
   "execution_count": null,
   "metadata": {
    "collapsed": false,
    "deletable": true,
    "editable": true
   },
   "outputs": [],
   "source": [
    "subset_columns = [columns[i] for i in range(len(columns)) if abs(reg.coef_[i])>0]\n",
    "subset_columns"
   ]
  },
  {
   "cell_type": "markdown",
   "metadata": {
    "deletable": true,
    "editable": true
   },
   "source": [
    "### Run regression on the \"simple\" model"
   ]
  },
  {
   "cell_type": "markdown",
   "metadata": {
    "deletable": true,
    "editable": true
   },
   "source": [
    "#### Build a new regression model using the selected variables"
   ]
  },
  {
   "cell_type": "code",
   "execution_count": null,
   "metadata": {
    "collapsed": true,
    "deletable": true,
    "editable": true
   },
   "outputs": [],
   "source": [
    "model = sms.OLS(df['p/e'], df[subset_columns])"
   ]
  },
  {
   "cell_type": "code",
   "execution_count": null,
   "metadata": {
    "collapsed": false,
    "deletable": true,
    "editable": true
   },
   "outputs": [],
   "source": [
    "result = model.fit()      "
   ]
  },
  {
   "cell_type": "markdown",
   "metadata": {
    "deletable": true,
    "editable": true
   },
   "source": [
    "Notes:\n",
    "    * Adjusted R-Square at 0.705\n",
    "    \n",
    "    * The coefficient for AfterTaxROE is positive indicating that firms with higher ROE will be valued more than firms with lower ROE.  Note that this coefficient was negative in our \"all-variable\" model.\n",
    "    \n",
    "    * operating_cash_flow_margin which as insignificant in our previous model is significant now.\n",
    "    \n",
    "    \n",
    "Interpretation:\n",
    "    \n",
    "    Keeping all things the same,\n",
    "    * 1% increase in AfterTaxROE increases the P/E by 0.4343\n",
    "    * 1% increase in operating cash flow margin increases the P/E by 0.1946\n",
    "    * 1% increase in surplus capital relative to the asset increases the P/E by 0.2852\n",
    "    * 1% increase in goodwill relative to the asset increases the P/E by 0.3120"
   ]
  },
  {
   "cell_type": "code",
   "execution_count": null,
   "metadata": {
    "collapsed": false,
    "deletable": true,
    "editable": true,
    "scrolled": true
   },
   "outputs": [],
   "source": [
    "print(result.summary())"
   ]
  },
  {
   "cell_type": "code",
   "execution_count": null,
   "metadata": {
    "collapsed": true,
    "deletable": true,
    "editable": true
   },
   "outputs": [],
   "source": []
  }
 ],
 "metadata": {
  "kernelspec": {
   "display_name": "Python 3",
   "language": "python",
   "name": "python3"
  },
  "language_info": {
   "codemirror_mode": {
    "name": "ipython",
    "version": 3
   },
   "file_extension": ".py",
   "mimetype": "text/x-python",
   "name": "python",
   "nbconvert_exporter": "python",
   "pygments_lexer": "ipython3",
   "version": "3.6.0"
  }
 },
 "nbformat": 4,
 "nbformat_minor": 2
}
